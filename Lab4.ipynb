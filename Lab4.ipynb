{
 "cells": [
  {
   "cell_type": "markdown",
   "metadata": {},
   "source": [
    "# Laboratorio 4"
   ]
  },
  {
   "cell_type": "markdown",
   "metadata": {},
   "source": [
    "## Integrantes\n",
    "\n",
    "* Maria Paula Gonzalez Escallon \n",
    "* Jessica Alejandra Robles Moreno\n",
    "* Juan Esteban Vergara Ascencio"
   ]
  }
 ],
 "metadata": {
  "kernelspec": {
   "display_name": "Python 3.9.12 ('base')",
   "language": "python",
   "name": "python3"
  },
  "language_info": {
   "name": "python",
   "version": "3.9.12"
  },
  "orig_nbformat": 4,
  "vscode": {
   "interpreter": {
    "hash": "5faf49b4097dd0f3767549b8177ceb92c6363dc7e70760be3d993f0933fb8b02"
   }
  }
 },
 "nbformat": 4,
 "nbformat_minor": 2
}
